{
 "cells": [
  {
   "cell_type": "code",
   "execution_count": null,
   "metadata": {},
   "outputs": [],
   "source": [
    "import os\n",
    "import numpy\n",
    "numpy.random.seed(33)\n",
    "numpy.set_printoptions(threshold=numpy.inf,linewidth=300,precision=2)\n",
    "import pandas as pd\n",
    "pd.set_option('display.max_columns',None)\n",
    "pd.set_option('display.max_rows',None)\n",
    "pd.set_option('display.float_format',lambda x:'%.4f'%x)\n",
    "from PIL import Image\n",
    "import matplotlib.image\n",
    "import tensorflow\n",
    "import keras\n",
    "from keras.datasets import mnist\n",
    "from keras.utils import np_utils\n",
    "from keras.optimizers import SGD,Adagrad,RMSprop,Adam\n",
    "from keras.models import Sequential,load_model\n",
    "from keras.callbacks import ModelCheckpoint,TensorBoard,LearningRateScheduler\n",
    "from keras.layers import InputLayer,Dense,Convolution3D,MaxPooling3D,AveragePooling3D,Flatten,Dropout"
   ]
  },
  {
   "cell_type": "code",
   "execution_count": null,
   "metadata": {},
   "outputs": [],
   "source": [
    "# path\n",
    "trainPath=\"../../trainQaq/trainSource\"\n",
    "testPath=\"../../trainQaq/testSource\""
   ]
  },
  {
   "cell_type": "code",
   "execution_count": null,
   "metadata": {},
   "outputs": [],
   "source": [
    "# assign labels to each name\n",
    "temp=os.listdir(trainPath)\n",
    "nameList=[]\n",
    "for each in temp:\n",
    "    index=each.find('_')\n",
    "    nameList.append(each[:index])\n",
    "nameList=numpy.unique(nameList)\n",
    "numberList=list(range(0,len(nameList)))\n",
    "lableDict={}\n",
    "for i in range(0,len(nameList)):\n",
    "    lableDict[nameList[i]]=numberList[i]"
   ]
  },
  {
   "cell_type": "code",
   "execution_count": null,
   "metadata": {},
   "outputs": [],
   "source": [
    "# load data\n",
    "def loadData(path, lableDict):\n",
    "    imageList=os.listdir(path)\n",
    "    dataList=[]\n",
    "    lableList=[]\n",
    "    num=len(imageList)\n",
    "    count=0\n",
    "    i=1\n",
    "    for each in imageList:\n",
    "        count+=1\n",
    "        im=matplotlib.image.imread(path+\"\\\\\"+each) # read as array\n",
    "        im=Image.fromarray(numpy.uint8(im)) # convert to image\n",
    "        im_resize=im.resize((256, 256)) # compress image to 256*256 (width*height)\n",
    "        im_resize=numpy.array(im_resize) # convert image to array\n",
    "        im_resize=im_resize.reshape(-1, 1) # \"stretch\" the array into one row \n",
    "        im_resize=im_resize[:256*256*3]\n",
    "        im_resize=im_resize.reshape(256,256,3)\n",
    "        dataList.append(im_resize) # append to data list\n",
    "        nameLength=each.find(\"_\") # find the length of the name\n",
    "        lableList.append(lableDict[each[:nameLength]]) # number each labal\n",
    "        # progress of loading\n",
    "        if count%50==0 or count==0:\n",
    "            i=1\n",
    "        else:\n",
    "            i+=1\n",
    "        finished=\"=\"*i\n",
    "        dots=\".\"*(51-i)\n",
    "        complement=\"=\"*(50-num%50)\n",
    "        if count==num:\n",
    "            if num%50==0:\n",
    "                print(\"\\rreading {}[{}=]{}/{} | finished\\n\".format(path,finished,count,num),end=\"\")\n",
    "            else:\n",
    "                print(\"\\rreading {}[{}={}]{}/{} | finished\\n\".format(path,finished,complement,count,num),end=\"\")\n",
    "        else:\n",
    "            print(\"\\rreading {}[{}>{}]{}/{}\".format(path,finished,dots,count,num),end=\"\")\n",
    "    return numpy.array(dataList), numpy.array(lableList)        "
   ]
  },
  {
   "cell_type": "code",
   "execution_count": null,
   "metadata": {},
   "outputs": [],
   "source": [
    "# load data\n",
    "testIm,testLable=loadData(testPath,lableDict)\n",
    "trainIm,trainLable=loadData(trainPath,lableDict)"
   ]
  },
  {
   "cell_type": "code",
   "execution_count": null,
   "metadata": {},
   "outputs": [],
   "source": [
    "# one-hot coding\n",
    "trainLableCoded=np_utils.to_categorical(trainLable,len(numberList))\n",
    "testLableCoded=np_utils.to_categorical(testLable,len(numberList))\n",
    "trainImFloat=trainIm.astype(\"float32\")\n",
    "testImFloat=testIm.astype(\"float32\")\n",
    "# maximum bightness is 255，after to division, its correct to [0,1]\n",
    "trainImFloat/=255\n",
    "testImFloat/=255\n",
    "# change the shape\n",
    "trainImFloat=trainImFloat.reshape(-1,1,256,256,3)\n",
    "testImFloat=testImFloat.reshape(-1,1,256,256,3)\n",
    "\n",
    "\n",
    "\n",
    "# shuffle\n",
    "index=list(range(len(trainLableCoded)))\n",
    "numpy.random.shuffle(index)\n",
    "trainImFloat=trainImFloat[index]\n",
    "trainLableCoded=trainLableCoded[index]"
   ]
  },
  {
   "cell_type": "code",
   "execution_count": null,
   "metadata": {},
   "outputs": [],
   "source": [
    "model_CNN = Sequential()\n",
    "model_CNN.add(InputLayer(input_shape=(1,256,256,3)))\n",
    "model_CNN.add(MaxPooling3D(pool_size=(3,3,3), padding='same'))\n",
    "model_CNN.add(Convolution3D(filters=16, kernel_size=(1,3,5), strides=(2,2,2), padding='same',activation='relu'))\n",
    "model_CNN.add(Convolution3D(filters=16, kernel_size=(3,1,2), strides=(2,2,2), padding='same',activation='relu'))\n",
    "model_CNN.add(Convolution3D(filters=10, kernel_size=(5,3,2), strides=(1,1,1), padding='same',activation='relu'))\n",
    "model_CNN.add(MaxPooling3D(pool_size=(3,3,3), padding='same'))\n",
    "model_CNN.add(Dropout(0.05))\n",
    "model_CNN.add(Convolution3D(filters=10, kernel_size=(3,5,3), strides=(1,1,1), padding='same',activation='relu'))\n",
    "model_CNN.add(MaxPooling3D(pool_size=(2,2,2), padding='same'))\n",
    "model_CNN.add(Dropout(0.08))\n",
    "model_CNN.add(Convolution3D(filters=8, kernel_size=(3,3,3), strides=(1,1,1), padding='same',activation='relu'))\n",
    "model_CNN.add(Dropout(0.08))\n",
    "model_CNN.add(MaxPooling3D(pool_size=(3,1,3), padding='same'))\n",
    "model_CNN.add(Dropout(0.05))\n",
    "model_CNN.add(Flatten())\n",
    "model_CNN.add(Dense(64,activation='relu'))\n",
    "model_CNN.add(Dense(17,activation='softmax'))\n",
    "opt = Adam(learning_rate=0.0012)\n",
    "model_CNN.compile(optimizer=opt, loss='categorical_crossentropy', metrics=['accuracy'])"
   ]
  },
  {
   "cell_type": "code",
   "execution_count": null,
   "metadata": {
    "scrolled": true
   },
   "outputs": [],
   "source": [
    "tensorboard = TensorBoard(log_dir=\"../../bestModel/log\")\n",
    "bestModel=\"../../bestModel/model_CNN.best.h5\"\n",
    "checkpoint=ModelCheckpoint(bestModel,monitor=\"val_loss\",verbose=0,mode='min')\n",
    "keras.callbacks.ReduceLROnPlateau(monitor='val_loss', factor=0.1, patience=6, verbose=0, mode='auto', min_delta=0.0001, cooldown=0, min_lr=0)\n",
    "callbacks_list=[tensorboard,checkpoint]\n",
    "batch = [8]*10\n",
    "count = 0\n",
    "for batch_size in batch:\n",
    "    count+=1\n",
    "    print('Training......',count)\n",
    "    model_CNN.fit(trainImFloat,trainLableCoded,batch_size=batch_size,epochs=5,callbacks=callbacks_list)\n",
    "    print('Testing......')\n",
    "    loss,accuracy = model_CNN.evaluate(testImFloat, testLableCoded)\n",
    "    print('test loss = ',loss)\n",
    "    print('test accuracy = ',accuracy)"
   ]
  },
  {
   "cell_type": "code",
   "execution_count": null,
   "metadata": {},
   "outputs": [],
   "source": [
    "model_CNN.save('../../bestModel/model_CNN.h5')"
   ]
  },
  {
   "cell_type": "code",
   "execution_count": null,
   "metadata": {},
   "outputs": [],
   "source": [
    "model_CNN=load_model('../../bestModel/model_CNN.h5')"
   ]
  },
  {
   "cell_type": "code",
   "execution_count": null,
   "metadata": {},
   "outputs": [],
   "source": [
    "model_CNN=load_model('../../bestModel/model_CNN.best.h5')"
   ]
  },
  {
   "cell_type": "code",
   "execution_count": null,
   "metadata": {},
   "outputs": [],
   "source": [
    "testNum=numpy.random.randint(1,testIm.shape[0])\n",
    "im=Image.fromarray(numpy.uint8(testIm[testNum]))\n",
    "im.show()"
   ]
  },
  {
   "cell_type": "code",
   "execution_count": null,
   "metadata": {},
   "outputs": [],
   "source": [
    "prediction=list(model_CNN.predict(testImFloat[[testNum],])[0])\n",
    "print('result: ',nameList[prediction.index(max(prediction))])\n",
    "prediction_dataframe = pd.DataFrame({'name':nameList,'posibility':prediction})\n",
    "prediction_dataframe"
   ]
  }
 ],
 "metadata": {
  "kernelspec": {
   "display_name": "Python 3",
   "language": "python",
   "name": "python3"
  },
  "language_info": {
   "codemirror_mode": {
    "name": "ipython",
    "version": 3
   },
   "file_extension": ".py",
   "mimetype": "text/x-python",
   "name": "python",
   "nbconvert_exporter": "python",
   "pygments_lexer": "ipython3",
   "version": "3.8.8"
  }
 },
 "nbformat": 4,
 "nbformat_minor": 4
}
